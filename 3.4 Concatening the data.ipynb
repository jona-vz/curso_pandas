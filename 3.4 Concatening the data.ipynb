{
 "cells": [
  {
   "cell_type": "code",
   "execution_count": 2,
   "metadata": {},
   "outputs": [
    {
     "data": {
      "text/plain": [
       "array([[ 0,  1,  2,  3],\n",
       "       [ 4,  5,  6,  7],\n",
       "       [ 8,  9, 10, 11]])"
      ]
     },
     "execution_count": 2,
     "metadata": {},
     "output_type": "execute_result"
    }
   ],
   "source": [
    "import numpy as np\n",
    "\n",
    "arr = np.arange(12).reshape(3,4)\n",
    "rn = np.random.randn(3,4)\n",
    "arr"
   ]
  },
  {
   "cell_type": "code",
   "execution_count": 3,
   "metadata": {},
   "outputs": [
    {
     "data": {
      "text/plain": [
       "array([[ 0.69617552,  0.14879889, -0.36446753,  1.17493055],\n",
       "       [-0.44434084, -0.45590624,  1.91582742, -2.05334393],\n",
       "       [ 1.85718273, -0.36531524,  2.24778014,  0.43523401]])"
      ]
     },
     "execution_count": 3,
     "metadata": {},
     "output_type": "execute_result"
    }
   ],
   "source": [
    "rn"
   ]
  },
  {
   "cell_type": "code",
   "execution_count": 4,
   "metadata": {},
   "outputs": [
    {
     "data": {
      "text/plain": [
       "array([[ 0.        ,  1.        ,  2.        ,  3.        ],\n",
       "       [ 4.        ,  5.        ,  6.        ,  7.        ],\n",
       "       [ 8.        ,  9.        , 10.        , 11.        ],\n",
       "       [ 0.69617552,  0.14879889, -0.36446753,  1.17493055],\n",
       "       [-0.44434084, -0.45590624,  1.91582742, -2.05334393],\n",
       "       [ 1.85718273, -0.36531524,  2.24778014,  0.43523401]])"
      ]
     },
     "execution_count": 4,
     "metadata": {},
     "output_type": "execute_result"
    }
   ],
   "source": [
    "#merge the data of rn below the arr\n",
    "np.concatenate([arr, rn])"
   ]
  },
  {
   "cell_type": "code",
   "execution_count": 5,
   "metadata": {},
   "outputs": [
    {
     "data": {
      "text/plain": [
       "array([[ 0.        ,  1.        ,  2.        ,  3.        ,  0.69617552,\n",
       "         0.14879889, -0.36446753,  1.17493055],\n",
       "       [ 4.        ,  5.        ,  6.        ,  7.        , -0.44434084,\n",
       "        -0.45590624,  1.91582742, -2.05334393],\n",
       "       [ 8.        ,  9.        , 10.        , 11.        ,  1.85718273,\n",
       "        -0.36531524,  2.24778014,  0.43523401]])"
      ]
     },
     "execution_count": 5,
     "metadata": {},
     "output_type": "execute_result"
    }
   ],
   "source": [
    "#merge data of rn on the rigth side of arr\n",
    "np.concatenate([arr, rn], axis=1)"
   ]
  },
  {
   "cell_type": "code",
   "execution_count": null,
   "metadata": {},
   "outputs": [],
   "source": []
  }
 ],
 "metadata": {
  "kernelspec": {
   "display_name": "Python 3",
   "language": "python",
   "name": "python3"
  },
  "language_info": {
   "codemirror_mode": {
    "name": "ipython",
    "version": 3
   },
   "file_extension": ".py",
   "mimetype": "text/x-python",
   "name": "python",
   "nbconvert_exporter": "python",
   "pygments_lexer": "ipython3",
   "version": "3.7.3"
  }
 },
 "nbformat": 4,
 "nbformat_minor": 2
}
