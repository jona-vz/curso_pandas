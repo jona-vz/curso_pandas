{
 "cells": [
  {
   "cell_type": "code",
   "execution_count": 1,
   "metadata": {},
   "outputs": [
    {
     "data": {
      "text/plain": [
       "[OrderedDict([('title', 'The Rising Son'), ('year', '1990')]),\n",
       " OrderedDict([('title', 'The Thousand Plane Raid'), ('year', '1969')]),\n",
       " OrderedDict([('title', 'Crucea de piatra'), ('year', '1993')]),\n",
       " OrderedDict([('title', 'Country'), ('year', '2000')]),\n",
       " OrderedDict([('title', 'Gaiking II'), ('year', '2011')])]"
      ]
     },
     "execution_count": 1,
     "metadata": {},
     "output_type": "execute_result"
    }
   ],
   "source": [
    "#***2.7.1 Read the file***\n",
    "import csv\n",
    "titles = list(csv.DictReader(open('titles.csv')))\n",
    "titles[0:5] #display first 5 rows"
   ]
  },
  {
   "cell_type": "code",
   "execution_count": 2,
   "metadata": {},
   "outputs": [
    {
     "data": {
      "text/plain": [
       "[OrderedDict([('title', 'Rebel'), ('year', '1970')]),\n",
       " OrderedDict([('title', 'Suzanne'), ('year', '1996')]),\n",
       " OrderedDict([('title', 'Bomba'), ('year', '2013')]),\n",
       " OrderedDict([('title', 'Aao Jao Ghar Tumhara'), ('year', '1984')]),\n",
       " OrderedDict([('title', 'Mrs. Munck'), ('year', '1995')])]"
      ]
     },
     "execution_count": 2,
     "metadata": {},
     "output_type": "execute_result"
    }
   ],
   "source": [
    "# display last 5 rows\n",
    "titles[-5:]"
   ]
  },
  {
   "cell_type": "code",
   "execution_count": 5,
   "metadata": {},
   "outputs": [
    {
     "name": "stdout",
     "output_type": "stream",
     "text": [
      "title : The Rising Son\n",
      "year : 1990\n"
     ]
    }
   ],
   "source": [
    "for k, v in titles[0].items():\n",
    "    print (k, ':', v)"
   ]
  },
  {
   "cell_type": "code",
   "execution_count": 6,
   "metadata": {},
   "outputs": [
    {
     "data": {
      "text/plain": [
       "[OrderedDict([('title', 'Insaaf Main Karoonga'), ('year', '1985')]),\n",
       " OrderedDict([('title', 'Vivre pour survivre'), ('year', '1985')]),\n",
       " OrderedDict([('title', 'Water'), ('year', '1985')]),\n",
       " OrderedDict([('title', 'Doea tanda mata'), ('year', '1985')]),\n",
       " OrderedDict([('title', 'Koritsia gia tsibima'), ('year', '1985')])]"
      ]
     },
     "execution_count": 6,
     "metadata": {},
     "output_type": "execute_result"
    }
   ],
   "source": [
    "year85 = [a for a in titles if a['year'] == '1985']\n",
    "year85[:5]"
   ]
  },
  {
   "cell_type": "code",
   "execution_count": 7,
   "metadata": {},
   "outputs": [
    {
     "data": {
      "text/plain": [
       "[OrderedDict([('title', 'The Rising Son'), ('year', '1990')]),\n",
       " OrderedDict([('title', 'Crucea de piatra'), ('year', '1993')]),\n",
       " OrderedDict([('title', 'Poka Makorer Ghar Bosoti'), ('year', '1996')]),\n",
       " OrderedDict([('title', 'Maa Durga Shakti'), ('year', '1999')]),\n",
       " OrderedDict([('title', 'Conflict of Interest'), ('year', '1993')])]"
      ]
     },
     "execution_count": 7,
     "metadata": {},
     "output_type": "execute_result"
    }
   ],
   "source": [
    "# movies from 1990 to 1999\n",
    "movies90 = [m for m in titles if (int(m['year']) < int('2000')) and (int(m['year']) > int('1989'))]\n",
    "movies90[:5]"
   ]
  },
  {
   "cell_type": "code",
   "execution_count": 8,
   "metadata": {},
   "outputs": [
    {
     "data": {
      "text/plain": [
       "[OrderedDict([('title', 'Macbeth'), ('year', '1913')]),\n",
       " OrderedDict([('title', 'Macbeth'), ('year', '2006')]),\n",
       " OrderedDict([('title', 'Macbeth'), ('year', '2013')])]"
      ]
     },
     "execution_count": 8,
     "metadata": {},
     "output_type": "execute_result"
    }
   ],
   "source": [
    "# find Macbeth movies\n",
    "macbeth = [m for m in titles if m['title']=='Macbeth']\n",
    "macbeth[:3]"
   ]
  },
  {
   "cell_type": "code",
   "execution_count": 9,
   "metadata": {},
   "outputs": [
    {
     "data": {
      "text/plain": [
       "[OrderedDict([('title', 'Macbeth'), ('year', '1913')]),\n",
       " OrderedDict([('title', 'Macbeth'), ('year', '1997')]),\n",
       " OrderedDict([('title', 'Macbeth'), ('year', '1998')])]"
      ]
     },
     "execution_count": 9,
     "metadata": {},
     "output_type": "execute_result"
    }
   ],
   "source": [
    "# sort based on year and display 3\n",
    "from operator import itemgetter\n",
    "sorted(macbeth, key=itemgetter('year'))[:3]"
   ]
  },
  {
   "cell_type": "code",
   "execution_count": 10,
   "metadata": {},
   "outputs": [],
   "source": [
    "casts = list(csv.DictReader(open('cast.csv')))"
   ]
  },
  {
   "cell_type": "code",
   "execution_count": 11,
   "metadata": {},
   "outputs": [
    {
     "data": {
      "text/plain": [
       "[OrderedDict([('title', 'Secret in Their Eyes'),\n",
       "              ('year', '2015'),\n",
       "              ('name', '$hutter'),\n",
       "              ('type', 'actor'),\n",
       "              ('character', '2002 Dodger Fan'),\n",
       "              ('n', '')]),\n",
       " OrderedDict([('title', 'Steve Jobs'),\n",
       "              ('year', '2015'),\n",
       "              ('name', '$hutter'),\n",
       "              ('type', 'actor'),\n",
       "              ('character', '1988 Opera House Patron'),\n",
       "              ('n', '')])]"
      ]
     },
     "execution_count": 11,
     "metadata": {},
     "output_type": "execute_result"
    }
   ],
   "source": [
    "casts[3:5]"
   ]
  },
  {
   "cell_type": "code",
   "execution_count": 12,
   "metadata": {},
   "outputs": [
    {
     "data": {
      "text/plain": [
       "[{'title': 'Secret in Their Eyes',\n",
       "  'year': '2015',\n",
       "  'name': '$hutter',\n",
       "  'type': 'actor',\n",
       "  'character': '2002 Dodger Fan',\n",
       "  'n': '0'},\n",
       " {'title': 'Steve Jobs',\n",
       "  'year': '2015',\n",
       "  'name': '$hutter',\n",
       "  'type': 'actor',\n",
       "  'character': '1988 Opera House Patron',\n",
       "  'n': '0'}]"
      ]
     },
     "execution_count": 12,
     "metadata": {},
     "output_type": "execute_result"
    }
   ],
   "source": [
    "# replace '' with 0\n",
    "cast0 = [{**c, 'n':c['n'].replace('', '0')} for c in casts]\n",
    "cast0[3:5]"
   ]
  },
  {
   "cell_type": "code",
   "execution_count": 13,
   "metadata": {},
   "outputs": [
    {
     "data": {
      "text/plain": [
       "[OrderedDict([('title', 'Maa Durga Shakti'), ('year', '1999')]),\n",
       " OrderedDict([('title', 'Maarek hob'), ('year', '2004')]),\n",
       " OrderedDict([('title', 'Maa Aur Mamta'), ('year', '1970')])]"
      ]
     },
     "execution_count": 13,
     "metadata": {},
     "output_type": "execute_result"
    }
   ],
   "source": [
    "# Movies starts with Maa\n",
    "maa = [m for m in titles if m['title'].startswith('Maa')]\n",
    "maa[:3]"
   ]
  },
  {
   "cell_type": "code",
   "execution_count": null,
   "metadata": {},
   "outputs": [],
   "source": [
    "#not as important as pandas just for demostration that we can do all this stuff in the python-csv way"
   ]
  }
 ],
 "metadata": {
  "kernelspec": {
   "display_name": "Python 3",
   "language": "python",
   "name": "python3"
  },
  "language_info": {
   "codemirror_mode": {
    "name": "ipython",
    "version": 3
   },
   "file_extension": ".py",
   "mimetype": "text/x-python",
   "name": "python",
   "nbconvert_exporter": "python",
   "pygments_lexer": "ipython3",
   "version": "3.7.3"
  }
 },
 "nbformat": 4,
 "nbformat_minor": 2
}
